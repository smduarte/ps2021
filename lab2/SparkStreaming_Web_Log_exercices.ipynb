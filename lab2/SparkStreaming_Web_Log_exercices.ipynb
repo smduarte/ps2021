{
 "cells": [
  {
   "cell_type": "markdown",
   "metadata": {},
   "source": [
    "# PS 2021 - Lab 2\n",
    "\n",
    "The following example and exercises assume that the stream server is running on a machine/docker with name `logsender` on port 7777, launched with the following command:\n",
    "\n",
    "`docker run --network psnet --name logsender smduarte/ps2021-logsender`\n",
    "\n",
    "The messages propagated by the server have the following format, using a blank space as the separator: \n",
    "\n",
    "`date` `IP_source` `return_value` `operation` `URL` `time`\n",
    "\n",
    "For example:\n",
    "\n",
    "`2016-12-06T08:58:35.318+0000 37.139.9.11 404 GET /codemove/TTCENCUFMH3C 0.026`"
   ]
  },
  {
   "cell_type": "markdown",
   "metadata": {},
   "source": [
    "## Example\n",
    "\n",
    "Count the number of requests from each source IP, over a window of 15 seconds, updated every 5 seconds, sorted in decreasing order."
   ]
  },
  {
   "cell_type": "code",
   "execution_count": null,
   "metadata": {},
   "outputs": [],
   "source": [
    "import socket\n",
    "from pyspark import SparkContext\n",
    "from pyspark.streaming import StreamingContext\n",
    "\n",
    "sc = SparkContext(\"local[*]\", \"WebLogExample\")\n",
    "ssc = StreamingContext(sc, 5)\n",
    "\n",
    "lines = ssc.socketTextStream(\"logsender\", 7777)\n",
    "\n",
    "lines = lines.window(15,5)\n",
    "counts = lines.filter( lambda line : len(line) > 0 ) \\\n",
    "            .map(lambda line: (line.split(' ')[1],1)) \\\n",
    "            .reduceByKey(lambda a, b: a+b) \\\n",
    "            .transform( \\\n",
    "                lambda rdd: rdd.sortBy(lambda x: x[1], ascending=False))\n",
    "counts.pprint()\n",
    "\n",
    "ssc.start()\n",
    "ssc.awaitTermination(30)\n",
    "ssc.stop()"
   ]
  },
  {
   "cell_type": "markdown",
   "metadata": {},
   "source": [
    "# Exercises (Lab1)\n",
    "\n",
    "Do the follwing exercises:\n",
    "\n",
    "Every 5 seconds, \n",
    "1. Dump the number of requests in the last 10 seconds;\n",
    "2. Dump the number of requests in the last 10 seconds, only if they total more than 100;\n",
    "3. Dump the number of requests in the last 10 seconds, if there is an IP address with more than \n",
    "100 requests;\n",
    "4. Dump the proportion of IPv4 vs IPv6 requests in the last 20 seconds.\n",
    "\n"
   ]
  },
  {
   "cell_type": "markdown",
   "metadata": {},
   "source": [
    "# Lab 2 Exercises"
   ]
  },
  {
   "cell_type": "markdown",
   "metadata": {},
   "source": [
    "## Exercise 2a\n",
    "\n",
    "In a denial-of-service attack, it is important to identify the IP sources that might be attacking the system, i.e., those that are issuing a large number of requests.\n",
    "\n",
    "Write a program to find the IP sources that have done more than 50 requests in the last 10 seconds, dump this information every 5 seconds. "
   ]
  },
  {
   "cell_type": "code",
   "execution_count": null,
   "metadata": {},
   "outputs": [],
   "source": []
  },
  {
   "cell_type": "markdown",
   "metadata": {},
   "source": [
    "## Exercise 2b\n",
    "\n",
    "Write a program to dump the number of requests, minimum processing time and maximum processing time per request in the last 10 seconds, for each source IP that has performed more than 100 requests. \n",
    "\n",
    "Dump this information every 5 seconds. "
   ]
  },
  {
   "cell_type": "code",
   "execution_count": null,
   "metadata": {},
   "outputs": [],
   "source": []
  },
  {
   "cell_type": "markdown",
   "metadata": {},
   "source": [
    "## Exercise 2c\n",
    "Write a program to dump the IP sources that deviate the most from the average, in terms of the number of requests made in the last 30 seconds - dump this information every 5 seconds.\n",
    "\n",
    "Note: modify your solution for using a weigthed average, where the most recent value have an higher weight."
   ]
  },
  {
   "cell_type": "code",
   "execution_count": null,
   "metadata": {},
   "outputs": [],
   "source": []
  },
  {
   "cell_type": "markdown",
   "metadata": {},
   "source": [
    "## Exercise 2d\n",
    "\n",
    "Run additional logsender servers for subsets of the logs (IPv4 and IPv6 logs), using the following commands.\n",
    "\n",
    "`docker exec -d logsender python ./server.py /data/webipv4.log 7778`\n",
    "\n",
    "`docker exec -d logsender python ./server.py /data/webipv6.log 7779`\n",
    "\n",
    "Write a program that joins the two streams, dumping every 5 seconds, the number of requests made in the last 15 seconds\n"
   ]
  },
  {
   "cell_type": "code",
   "execution_count": null,
   "metadata": {},
   "outputs": [],
   "source": []
  }
 ],
 "metadata": {
  "kernelspec": {
   "display_name": "Python 3",
   "language": "python",
   "name": "python3"
  },
  "language_info": {
   "codemirror_mode": {
    "name": "ipython",
    "version": 3
   },
   "file_extension": ".py",
   "mimetype": "text/x-python",
   "name": "python",
   "nbconvert_exporter": "python",
   "pygments_lexer": "ipython3",
   "version": "3.7.6"
  }
 },
 "nbformat": 4,
 "nbformat_minor": 2
}
