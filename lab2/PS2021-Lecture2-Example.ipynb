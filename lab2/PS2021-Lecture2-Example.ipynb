{
 "cells": [
  {
   "cell_type": "markdown",
   "metadata": {},
   "source": [
    "# Spark Streaming Lecture 2 Example\n",
    "\n",
    "These are the examples used in the slides of lecture 2.\n",
    "\n",
    "The code assumes that the stream is available at server `logsender`, port 7777. Check the setup of lab 1."
   ]
  },
  {
   "cell_type": "markdown",
   "metadata": {},
   "source": [
    "## Example 1\n",
    "\n",
    "List the top-3 IP sources with more accesses in the last 30 seconds. Update the list every 10 seconds."
   ]
  },
  {
   "cell_type": "code",
   "execution_count": null,
   "metadata": {},
   "outputs": [],
   "source": [
    "import socket\n",
    "from pyspark import SparkContext\n",
    "from pyspark.streaming import StreamingContext\n",
    "\n",
    "sc = SparkContext(\"local[2]\", \"WebLogExample\")\n",
    "ssc = StreamingContext(sc, 5)\n",
    "lines = ssc.socketTextStream(\"logsender\", 7777)\n",
    "\n",
    "lines = lines.window(10,5)\n",
    "result = lines.filter( lambda line : len(line) > 0 ) \\\n",
    "            .map(lambda line: (line.split(' ')[1],1)) \\\n",
    "            .reduceByKey(lambda a, b: a+b) \\\n",
    "            .transform( lambda rdd: \n",
    "                       rdd.sortBy(lambda x: x[1], ascending=False)\n",
    "                          .zipWithIndex() \\\n",
    "                          .filter( lambda v: v[1] < 3) \\\n",
    "                          .map( lambda v: v[0])) \\\n",
    "\n",
    "result.pprint()\n",
    "\n",
    "ssc.start()\n",
    "ssc.awaitTermination(20)\n",
    "ssc.stop()"
   ]
  },
  {
   "cell_type": "markdown",
   "metadata": {},
   "source": [
    "## Example 2\n",
    "\n",
    "List the top-3 IP sources with more accesses in the last 30 seconds. Update the list every 10 seconds.\n",
    "\n",
    "Print the country of the URL, assuming there is a CSV with the country for each IP.\n"
   ]
  },
  {
   "cell_type": "code",
   "execution_count": null,
   "metadata": {},
   "outputs": [],
   "source": [
    "import socket\n",
    "from pyspark import SparkContext\n",
    "from pyspark.streaming import StreamingContext\n",
    "\n",
    "sc = SparkContext(\"local[2]\", \"WebLogExample\")\n",
    "countries = sc.textFile( 'countries.csv') \\\n",
    "     .filter( lambda l: len(l) > 0) \\\n",
    "     .map( lambda l : l.split(',')) \\\n",
    "     .map( lambda l : (l[0],l[1]))\n",
    "\n",
    "ssc = StreamingContext(sc, 5)\n",
    "lines = ssc.socketTextStream(\"logsender\", 7777)\n",
    "\n",
    "lines = lines.window(10,5)\n",
    "result = lines.filter( lambda line : len(line) > 0 ) \\\n",
    "            .map(lambda line: (line.split(' ')[1],1)) \\\n",
    "            .reduceByKey(lambda a, b: a+b) \\\n",
    "            .transform( \\\n",
    "                lambda rdd: rdd.sortBy(lambda x: x[1], ascending=False)\\\n",
    "                       .zipWithIndex().filter( lambda v: v[1] < 3).map( lambda v: v[0]))\n",
    "result =  result.transform( \\\n",
    "                lambda rdd: rdd.join(countries))\n",
    "result.pprint()\n",
    "\n",
    "ssc.start()\n",
    "ssc.awaitTermination(20)\n",
    "ssc.stop()"
   ]
  },
  {
   "cell_type": "markdown",
   "metadata": {},
   "source": [
    "## Example 3\n",
    "\n",
    "List the top-3 IP sources with more accesses in the last 30 seconds. Update the list every 10 seconds.\n",
    "\n",
    "Print the country of the URL, assuming there is a CSV with the country for each IP.\n",
    "\n",
    "Print also the total number of requests for each IP overtime.\n"
   ]
  },
  {
   "cell_type": "code",
   "execution_count": null,
   "metadata": {},
   "outputs": [],
   "source": [
    "import socket\n",
    "from pyspark import SparkContext\n",
    "from pyspark.streaming import StreamingContext\n",
    "\n",
    "def updateFunction(newValues, runningCount):\n",
    "    if runningCount is None:\n",
    "        runningCount = 0\n",
    "    return sum(newValues, runningCount)\n",
    "\n",
    "sc = SparkContext(\"local[2]\", \"WebLogExample\")\n",
    "ssc = StreamingContext(sc, 5)\n",
    "ssc.checkpoint('checkpoint')\n",
    "lines = ssc.socketTextStream(\"logsender\", 7777)\n",
    "\n",
    "lines = lines.window(10,5)\n",
    "result = lines.filter( lambda line : len(line) > 0 ) \\\n",
    "            .map(lambda line: (line.split(' ')[1],1)) \\\n",
    "            .reduceByKey(lambda a, b: a+b)\n",
    "\n",
    "runningCounts = result.updateStateByKey(updateFunction)\n",
    "\n",
    "result = result.transform( \\\n",
    "                lambda rdd: rdd.sortBy(lambda x: x[1], ascending=False)\\\n",
    "                       .zipWithIndex().filter( lambda v: v[1] < 3).map( lambda v: v[0]))\n",
    "result = result.join(runningCounts)\n",
    "result.pprint()\n",
    "\n",
    "ssc.start()\n",
    "ssc.awaitTermination(20)\n",
    "ssc.stop()"
   ]
  },
  {
   "cell_type": "code",
   "execution_count": null,
   "metadata": {},
   "outputs": [],
   "source": []
  }
 ],
 "metadata": {
  "kernelspec": {
   "display_name": "Python 3",
   "language": "python",
   "name": "python3"
  },
  "language_info": {
   "codemirror_mode": {
    "name": "ipython",
    "version": 3
   },
   "file_extension": ".py",
   "mimetype": "text/x-python",
   "name": "python",
   "nbconvert_exporter": "python",
   "pygments_lexer": "ipython3",
   "version": "3.7.6"
  }
 },
 "nbformat": 4,
 "nbformat_minor": 2
}
