{
 "cells": [
  {
   "cell_type": "markdown",
   "metadata": {},
   "source": [
    "# Spark Streaming example\n",
    "\n",
    "This is a simple example of how to run Spark Streaming jobs in Jupyter.\n",
    "\n",
    "To run this example, you should first **start the stream sender**, hosted in a separate\n",
    "docker container, using the following command:\n",
    "\n",
    "`docker run --network psnet -h logsender smduarte/ps2021-logsender`\n",
    "\n",
    "The stream server is a small python TCP server, listening\n",
    "on port 7777. The stream will consist of a set of text lines,\n",
    "obtained from the output log of a webserver.\n",
    "\n",
    "Spark Streaming python documentation is found [here](https://spark.apache.org/docs/latest/api/python/reference/pyspark.streaming.html)"
   ]
  },
  {
   "cell_type": "code",
   "execution_count": null,
   "metadata": {},
   "outputs": [],
   "source": [
    "from pyspark import SparkContext\n",
    "\n",
    "sc = SparkContext(\"local[2]\", \"WebLogExample\")\n"
   ]
  },
  {
   "cell_type": "code",
   "execution_count": null,
   "metadata": {},
   "outputs": [],
   "source": [
    "import socket\n",
    "from pyspark.streaming import StreamingContext\n",
    "\n",
    "ssc = StreamingContext(sc, 1)\n",
    "lines = ssc.socketTextStream(\"logsender\", 7777)\n",
    "\n",
    "lines = lines.window(15,1)\n",
    "\n",
    "counts = lines.filter( lambda line : len(line) > 0 ) \\\n",
    "            .map(lambda line: (line.split(' ')[1],1)) \\\n",
    "            .reduceByKey(lambda a, b: a+b) \\\n",
    "            .transform( lambda rdd: rdd.sortBy(lambda x: x[1], ascending=False))\n",
    "counts.pprint()\n",
    "\n",
    "ssc.start()\n",
    "ssc.awaitTermination(120)\n",
    "ssc.stop()"
   ]
  },
  {
   "cell_type": "markdown",
   "metadata": {},
   "source": [
    "# Exercises\n",
    "\n",
    "Do the follwing exercises:\n",
    "\n",
    "Every 5 seconds, \n",
    "1. Dump the number of requests in the last 10 seconds;\n",
    "2. Dump the number of requests in the last 10 seconds, only if they total more than 100;\n",
    "3. Dump the number of requests in the last 10 seconds, if there is an IP address with more than \n",
    "100 requests;\n",
    "4. Dump the proportion of IPv4 vs IPv6 requests in the last 20 seconds.\n",
    "\n"
   ]
  }
 ],
 "metadata": {
  "kernelspec": {
   "display_name": "Python 3",
   "language": "python",
   "name": "python3"
  },
  "language_info": {
   "codemirror_mode": {
    "name": "ipython",
    "version": 3
   },
   "file_extension": ".py",
   "mimetype": "text/x-python",
   "name": "python",
   "nbconvert_exporter": "python",
   "pygments_lexer": "ipython3",
   "version": "3.7.6"
  }
 },
 "nbformat": 4,
 "nbformat_minor": 2
}
